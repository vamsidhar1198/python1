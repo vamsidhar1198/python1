{
 "cells": [
  {
   "cell_type": "code",
   "execution_count": 1,
   "id": "3accba64",
   "metadata": {},
   "outputs": [
    {
     "name": "stdout",
     "output_type": "stream",
     "text": [
      "enter the stringabcdefgh\n",
      "AbCdEfGh\n"
     ]
    }
   ],
   "source": [
    "# x='abcde' oputput='AbCdE'\n",
    "x=input(\"enter the string\")\n",
    "i=0\n",
    "b=''\n",
    "while i<len(x):\n",
    "    if i%2==0:\n",
    "        b=b+x[i].upper()\n",
    "    else:\n",
    "        b=b+x[i]\n",
    "    i+=1\n",
    "print(b)"
   ]
  },
  {
   "cell_type": "code",
   "execution_count": 2,
   "id": "1a8bc70c",
   "metadata": {
    "scrolled": true
   },
   "outputs": [
    {
     "name": "stdout",
     "output_type": "stream",
     "text": [
      "a----<class 'str'>\n",
      "1.2----<class 'float'>\n",
      "382----<class 'int'>\n",
      "abc----<class 'str'>\n",
      "(1+2j)----<class 'complex'>\n"
     ]
    }
   ],
   "source": [
    "#x=['a',1.2,382,'abc,1+2j']  output=all data types \n",
    "x=['a',1.2,382,'abc',1+2j]\n",
    "i=0\n",
    "while i<len(x):\n",
    "    print('{}----{}'.format(x[i],type(x[i])))\n",
    "    i+=1"
   ]
  },
  {
   "cell_type": "code",
   "execution_count": 3,
   "id": "b68b9722",
   "metadata": {},
   "outputs": [
    {
     "name": "stdout",
     "output_type": "stream",
     "text": [
      "alphabet =  abde\n",
      "number =  10\n"
     ]
    }
   ],
   "source": [
    "# x=['a','b',1,2,3,'d,'e,4]  output= 'abde' 1+2+3+4=10\n",
    "x=['a','b','1','2','3','d','e','4']\n",
    "i=0\n",
    "b=''\n",
    "c=0\n",
    "while i<len(x):\n",
    "    if x[i].isalpha():\n",
    "        b=b+x[i]\n",
    "    else:\n",
    "        c=c+int(x[i])\n",
    "    i+=1\n",
    "print('alphabet = ',b)\n",
    "print('number = ',c)"
   ]
  },
  {
   "cell_type": "code",
   "execution_count": 13,
   "id": "4c0f2307",
   "metadata": {},
   "outputs": [
    {
     "name": "stdout",
     "output_type": "stream",
     "text": [
      "enter the string : vamsi12345\n",
      "Alphabets= ['v', 'a', 'm', 's', 'i']\n",
      "Numbers= ['1', '2', '3', '4', '5']\n"
     ]
    }
   ],
   "source": [
    "# we have a string 'abcd123ef' all the numbers in one list , alphabets in one list\n",
    "a=input(\"enter the string : \")\n",
    "i=0\n",
    "b=''\n",
    "c=''\n",
    "while i!=len(a):\n",
    "    if a[i].isdigit() == True:\n",
    "        b=b+' '+a[i]\n",
    "    else:\n",
    "        c=c+' '+a[i]\n",
    "    i=i+1   \n",
    "print('Alphabets=',c.split())\n",
    "print('Numbers=',b.split())"
   ]
  },
  {
   "cell_type": "code",
   "execution_count": 23,
   "id": "098c8970",
   "metadata": {},
   "outputs": [
    {
     "data": {
      "text/plain": [
       "['d', 2, 'b', 6]"
      ]
     },
     "execution_count": 23,
     "metadata": {},
     "output_type": "execute_result"
    }
   ],
   "source": [
    "# create two list l1=[1,2,3,'a','b'],l2=[6,1,3,'a','d'] output=create a list to get common elements\n",
    "l1=[1,2,3,'a','b']\n",
    "l2=[6,1,3,'a','d']\n",
    "set1=set(l1)\n",
    "set2=set(l2)\n",
    "set3=set1.difference(set2)\n",
    "set4=set2.difference(set1)\n",
    "set3.update(set4)\n",
    "a=list(set3)\n",
    "a"
   ]
  },
  {
   "cell_type": "code",
   "execution_count": 39,
   "id": "e00f1519",
   "metadata": {},
   "outputs": [
    {
     "name": "stdout",
     "output_type": "stream",
     "text": [
      "['2', 'b', '6', 'd']\n"
     ]
    }
   ],
   "source": [
    "l1=['1','2','3','a','b']\n",
    "l2=['6','1','3','a','d']\n",
    "l3=[]\n",
    "i=0\n",
    "\n",
    "while i<len(l1):\n",
    "    j=0\n",
    "    k=0\n",
    "    while j<len(l2):\n",
    "        if ord(l1[i])!=ord(l2[j]):\n",
    "            k+=1\n",
    "        if k==len(l2):\n",
    "            l3.append(l1[i])\n",
    "        \n",
    "        j+=1\n",
    "    i+=1\n",
    "i=0\n",
    "while i<len(l2):\n",
    "    j=0\n",
    "    k=0\n",
    "    while j<len(l1):\n",
    "        if ord(l2[i])!=ord(l1[j]):\n",
    "            k+=1\n",
    "        if k==len(l1):\n",
    "            l3.append(l2[i])\n",
    "        \n",
    "        j+=1\n",
    "    i+=1\n",
    "print(l3)"
   ]
  },
  {
   "cell_type": "code",
   "execution_count": 6,
   "id": "20f06771",
   "metadata": {},
   "outputs": [
    {
     "name": "stdout",
     "output_type": "stream",
     "text": [
      "enter the first number : 10\n",
      "enter the second number : 20\n",
      "+ for add , - for sub, * for mul,/ for division : +\n",
      "the sum of 10 and 20 is 30:\n",
      "do you want to continue (yes or no) ? :yes\n",
      "enter the first number : 20\n",
      "enter the second number : 10\n",
      "+ for add , - for sub, * for mul,/ for division : -\n",
      "the subraction of 20 and 10 is 10:\n",
      "do you want to continue (yes or no) ? :yes\n",
      "enter the first number : 30\n",
      "enter the second number : 5\n",
      "+ for add , - for sub, * for mul,/ for division : *\n",
      "the mutiplication of 30 and 5 is 150:\n",
      "do you want to continue (yes or no) ? :yes\n",
      "enter the first number : 30\n",
      "enter the second number : 2\n",
      "+ for add , - for sub, * for mul,/ for division : /\n",
      "the division of 30 and 2 is 15.0:\n",
      "do you want to continue (yes or no) ? :no\n"
     ]
    }
   ],
   "source": [
    "# create a calculator (it should run until we press c )\n",
    "name='yes'\n",
    "while name=='yes' :\n",
    "    a=int(input(\"enter the first number : \"))\n",
    "    b=int(input(\"enter the second number : \"))\n",
    "    c=input(\"+ for add , - for sub, * for mul,/ for division : \")\n",
    "    if c=='+':\n",
    "        d=a+b\n",
    "        print('the sum of {} and {} is {}:'.format(a,b,d))\n",
    "    elif c=='-':\n",
    "        d=a-b\n",
    "        print('the subraction of {} and {} is {}:'.format(a,b,d))\n",
    "    elif c=='*':\n",
    "        d=a*b\n",
    "        print('the mutiplication of {} and {} is {}:'.format(a,b,d))\n",
    "    elif c=='/':\n",
    "        d=a/b\n",
    "        print('the division of {} and {} is {}:'.format(a,b,d))\n",
    "    name=input(\"do you want to continue (yes or no) ? :\")"
   ]
  },
  {
   "cell_type": "code",
   "execution_count": 33,
   "id": "91fed7e1",
   "metadata": {},
   "outputs": [
    {
     "name": "stdout",
     "output_type": "stream",
     "text": [
      "number of elements :5\n",
      "enter the element :1+2j\n",
      "enter the element :3\n",
      "enter the element :a\n",
      "enter the element :abc\n",
      "enter the element :1.8\n"
     ]
    },
    {
     "data": {
      "text/plain": [
       "['1+2j', '3', 'a', 'abc', '1.8']"
      ]
     },
     "execution_count": 33,
     "metadata": {},
     "output_type": "execute_result"
    }
   ],
   "source": [
    "x=[]\n",
    "i=0\n",
    "n=int(input('number of elements :'))\n",
    "while i<n:\n",
    "    a=input('enter the element :')\n",
    "    x.append(a)\n",
    "    i+=1\n",
    "x"
   ]
  },
  {
   "cell_type": "code",
   "execution_count": null,
   "id": "5dbf4d37",
   "metadata": {},
   "outputs": [],
   "source": []
  },
  {
   "cell_type": "code",
   "execution_count": null,
   "id": "9da46594",
   "metadata": {},
   "outputs": [],
   "source": []
  }
 ],
 "metadata": {
  "kernelspec": {
   "display_name": "Python 3 (ipykernel)",
   "language": "python",
   "name": "python3"
  },
  "language_info": {
   "codemirror_mode": {
    "name": "ipython",
    "version": 3
   },
   "file_extension": ".py",
   "mimetype": "text/x-python",
   "name": "python",
   "nbconvert_exporter": "python",
   "pygments_lexer": "ipython3",
   "version": "3.9.12"
  }
 },
 "nbformat": 4,
 "nbformat_minor": 5
}
