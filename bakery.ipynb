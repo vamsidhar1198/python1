{
 "cells": [
  {
   "cell_type": "code",
   "execution_count": 2,
   "id": "09df5711",
   "metadata": {},
   "outputs": [
    {
     "name": "stdout",
     "output_type": "stream",
     "text": [
      "displaying the stock : \n",
      "cakes : 1000 (cost of each cake is 5RS)\n",
      "pastery : 1200 (cost of each pastery is 10RS)\n",
      "puffs : 950 (cost of each puff is 15RS)\n",
      "are you a customer or retailer ? : 1 for customer   2 for retailer2\n",
      "please select the items you want : \n",
      "1 for cakes    2 for pasterys     3 for puffs\n",
      "1\n",
      "enter the quntity : 1000\n",
      "do you want to select another item:(yes or no)?no\n",
      "added stock :  {'cakes': 1000, 'pasterys': 0, 'puffs': 0}\n",
      "updated stock :  {'cakes_stock': 2000, 'pastery_stock': 1200, 'puffs_stock': 950}\n",
      "bakery bill is :  4000\n"
     ]
    }
   ],
   "source": [
    "# bakery \n",
    "print('displaying the stock : ')\n",
    "cakes=1000\n",
    "pasterys=1200\n",
    "puffs=950\n",
    "customer_bill=0\n",
    "bakery_bill=0\n",
    "quntity=0\n",
    "print('cakes : {} (cost of each cake is 5RS)\\npastery : {} (cost of each pastery is 10RS)\\\n",
    "\\npuffs : {} (cost of each puff is 15RS)'.format(cakes,pasterys,puffs))\n",
    "bakery={'cakes_stock':cakes,'pastery_stock':pasterys,'puffs_stock':puffs}\n",
    "stock={1:'cakes',2:'pasterys',3:'puffs'}\n",
    "items_list={'cakes':0,'pasterys':0,'puffs':0}\n",
    "customer={'cakes':0,'pasterys':0,'puffs':0}\n",
    "name=int(input('are you a customer or retailer ? : 1 for customer   2 for retailer'))\n",
    "while True:\n",
    "    items=int(input('please select the items you want : \\n1 for cakes    2 for pasterys     3 for puffs\\n'))\n",
    "    quntity=int(input('enter the quntity : '))\n",
    "    decision=input(\"do you want to select another item:(yes or no)?\")\n",
    "    if items_list[stock[items]]==0:\n",
    "        items_list.update({stock[items]:quntity})\n",
    "    else:\n",
    "        quntity=quntity+items_list[stock[items]]\n",
    "        items_list.update({stock[items]:quntity})\n",
    "    if items==1:\n",
    "        if name==1:\n",
    "            customer.update({'cakes':items_list[stock[items]]})\n",
    "        elif name==2:\n",
    "            bakery.update({'cakes_stock':cakes+items_list[stock[items]]})\n",
    "    elif items==2:\n",
    "        if name==1:\n",
    "            customer.update({'pasterys':items_list[stock[items]]})\n",
    "        elif name==2:\n",
    "            bakery.update({'pastery_stock':pasterys+items_list[stock[items]]})  \n",
    "    elif items==3:\n",
    "        if name==1:\n",
    "            customer.update({'puffs':items_list[stock[items]]})\n",
    "        elif name==2:\n",
    "            bakery.update({'puffs_stock':puffs+items_list[stock[items]]})         \n",
    "    if decision=='yes':\n",
    "        continue\n",
    "    elif decision=='no':\n",
    "        break\n",
    "    else:\n",
    "        print('invalid input')\n",
    "bakery_bill=bakery_bill+items_list['cakes']*4+items_list['pasterys']*8+items_list['puffs']*12\n",
    "customer_bill=customer_bill+customer['cakes']*5+customer['pasterys']*10+customer['puffs']*15\n",
    "if name==2:\n",
    "    print('added stock : ',items_list)\n",
    "    print('updated stock : ',bakery)\n",
    "    print(\"bakery bill is : \",bakery_bill)\n",
    "elif name==1:\n",
    "    print(\"customer items : \",customer)\n",
    "    print(\"customer bill is : \",customer_bill)"
   ]
  }
 ],
 "metadata": {
  "kernelspec": {
   "display_name": "Python 3 (ipykernel)",
   "language": "python",
   "name": "python3"
  },
  "language_info": {
   "codemirror_mode": {
    "name": "ipython",
    "version": 3
   },
   "file_extension": ".py",
   "mimetype": "text/x-python",
   "name": "python",
   "nbconvert_exporter": "python",
   "pygments_lexer": "ipython3",
   "version": "3.9.12"
  }
 },
 "nbformat": 4,
 "nbformat_minor": 5
}
