{
 "cells": [
  {
   "cell_type": "code",
   "execution_count": null,
   "id": "3dae657a",
   "metadata": {},
   "outputs": [],
   "source": [
    "'''Write a program to accept percentage from the user and display the grade according to the following criteria:\n",
    "\n",
    "         Marks                                    Grade\n",
    "         > 90                                        A\n",
    "         > 80 and <= 90                              B\n",
    "         >= 60 and <= 80                             C\n",
    "         below 60                                    D  '''"
   ]
  },
  {
   "cell_type": "code",
   "execution_count": 2,
   "id": "75c4ed11",
   "metadata": {},
   "outputs": [
    {
     "name": "stdout",
     "output_type": "stream",
     "text": [
      "enter the sutdent percentage : 87\n",
      "sutdent secured B grade\n"
     ]
    }
   ],
   "source": [
    "percentage=int(input('enter the sutdent percentage : '))\n",
    "if percentage>90:\n",
    "    print(\"sutdent secured A grade\")\n",
    "elif percentage>80 and percentage<=90:\n",
    "    print(\"sutdent secured B grade\")\n",
    "elif percentage>=60 and percentage<=80:\n",
    "    print(\"sutdent secured C grade\")\n",
    "elif percentage<60:\n",
    "    print(\"sutdent secured D grade\")"
   ]
  },
  {
   "cell_type": "code",
   "execution_count": null,
   "id": "0285104d",
   "metadata": {},
   "outputs": [],
   "source": [
    "'''Write a program to accept the cost price of a bike and display the road tax to be paid according to the following criteria :\n",
    "    \n",
    "        Cost price (in Rs)                                       Tax\n",
    "        > 100000                                                  15 %\n",
    "        > 50000 and <= 100000                                     10%\n",
    "        <= 50000                                                   5%'''"
   ]
  },
  {
   "cell_type": "code",
   "execution_count": 3,
   "id": "47bd67ae",
   "metadata": {},
   "outputs": [
    {
     "name": "stdout",
     "output_type": "stream",
     "text": [
      "enter the bike price : 87000\n",
      "road tax of bike is :  8700.0\n"
     ]
    }
   ],
   "source": [
    "bike_price=int(input(\"enter the bike price : \"))\n",
    "if bike_price>100000:\n",
    "    print('road tax of bike is : ',(bike_price*0.15))\n",
    "elif bike_price>50000 and bike_price<=100000:\n",
    "    print('road tax of bike is : ',(bike_price*0.1))\n",
    "elif bike_price<=50000:\n",
    "    print('road tax of bike is : ',(bike_price*0.05))"
   ]
  },
  {
   "cell_type": "code",
   "execution_count": 4,
   "id": "2d1e28a4",
   "metadata": {},
   "outputs": [
    {
     "name": "stdout",
     "output_type": "stream",
     "text": [
      "enter the age : 36\n",
      "he/she can vote\n"
     ]
    }
   ],
   "source": [
    "#Write a program to check whether a person is eligible for voting or not. (accept age from user)\n",
    "age=int(input(\"enter the age : \"))\n",
    "if age>=18:\n",
    "    print(\"he/she can vote\")\n",
    "else:\n",
    "    print(\"he/she is not eligible\")"
   ]
  },
  {
   "cell_type": "code",
   "execution_count": 5,
   "id": "724a545c",
   "metadata": {},
   "outputs": [
    {
     "name": "stdout",
     "output_type": "stream",
     "text": [
      "enter the number : 5\n",
      "number is odd\n"
     ]
    }
   ],
   "source": [
    "#Write a program to check whether a number entered by user is even or odd.\n",
    "number=int(input(\"enter the number : \"))\n",
    "if number%2==0:\n",
    "    print('number is even')\n",
    "else:\n",
    "    print('number is odd')"
   ]
  },
  {
   "cell_type": "code",
   "execution_count": 6,
   "id": "a88585d3",
   "metadata": {},
   "outputs": [
    {
     "name": "stdout",
     "output_type": "stream",
     "text": [
      "enter the number : 21\n",
      "number is divisable by 7\n"
     ]
    }
   ],
   "source": [
    "#Write a program to check whether a number is divisible by 7 or not.\n",
    "number=int(input(\"enter the number : \"))\n",
    "if number%7==0:\n",
    "    print('number is divisable by 7')\n",
    "else:\n",
    "    print('number is not divisable by 7')"
   ]
  },
  {
   "cell_type": "code",
   "execution_count": 7,
   "id": "420a620c",
   "metadata": {},
   "outputs": [
    {
     "name": "stdout",
     "output_type": "stream",
     "text": [
      "enter the number : 50\n",
      "Hello\n"
     ]
    }
   ],
   "source": [
    "#Write a program to display \"Hello\" if a number entered by user is a multiple of five , otherwise print \"Bye\".\n",
    "number=int(input(\"enter the number : \"))\n",
    "if number%5==0:\n",
    "    print(\"Hello\")\n",
    "else:\n",
    "    print(\"Bye\")"
   ]
  },
  {
   "cell_type": "code",
   "execution_count": null,
   "id": "798f8604",
   "metadata": {},
   "outputs": [],
   "source": [
    "'''Write a program to calculate the electricity bill (accept number of unit from user) according to the following criteria :\n",
    "             Unit                                                     Price  \n",
    "First 100 units                                               no charge\n",
    "Next 100 units                                              Rs 5 per unit\n",
    "After 200 units                                             Rs 10 per unit\n",
    "(For example if input unit is 350 than total bill amount is Rs2000)'''"
   ]
  },
  {
   "cell_type": "code",
   "execution_count": 8,
   "id": "15984e2f",
   "metadata": {},
   "outputs": [
    {
     "name": "stdout",
     "output_type": "stream",
     "text": [
      "Enter the units : 350\n",
      "the charage is  2000\n"
     ]
    }
   ],
   "source": [
    "units=int(input(\"Enter the units : \"))\n",
    "if units<=100:\n",
    "    print(\"no charge\")\n",
    "elif units>100 and units<=200:\n",
    "    print(\"the charge is :\",(units-100)*5)\n",
    "elif units>200:\n",
    "    print(\"the charage is \",((100)*5)+((units-200)*10))"
   ]
  },
  {
   "cell_type": "code",
   "execution_count": 9,
   "id": "3ae94af3",
   "metadata": {},
   "outputs": [
    {
     "name": "stdout",
     "output_type": "stream",
     "text": [
      "enter the number : 1376\n",
      "6\n"
     ]
    }
   ],
   "source": [
    "# Write a program to display the last digit of a number. (hint : any number % 10 will return the last digit)\n",
    "number=int(input(\"enter the number : \"))\n",
    "print(number%10)"
   ]
  },
  {
   "cell_type": "code",
   "execution_count": 10,
   "id": "94e700c1",
   "metadata": {},
   "outputs": [
    {
     "name": "stdout",
     "output_type": "stream",
     "text": [
      "enter the number : 1376\n",
      "the last digit of the number is divisable by 3\n"
     ]
    }
   ],
   "source": [
    "# Write a program to check whether the last digit of a number( entered by user ) is divisible by 3 or not.\n",
    "number=int(input(\"enter the number : \"))\n",
    "a=number%10\n",
    "if a%3==0:\n",
    "    print(\"the last digit of the number is divisable by 3\")\n",
    "else: \n",
    "    print(\"the last digit of the number is not divisable by 3\")"
   ]
  },
  {
   "cell_type": "code",
   "execution_count": null,
   "id": "854089b3",
   "metadata": {},
   "outputs": [],
   "source": []
  }
 ],
 "metadata": {
  "kernelspec": {
   "display_name": "Python 3 (ipykernel)",
   "language": "python",
   "name": "python3"
  },
  "language_info": {
   "codemirror_mode": {
    "name": "ipython",
    "version": 3
   },
   "file_extension": ".py",
   "mimetype": "text/x-python",
   "name": "python",
   "nbconvert_exporter": "python",
   "pygments_lexer": "ipython3",
   "version": "3.9.12"
  }
 },
 "nbformat": 4,
 "nbformat_minor": 5
}
