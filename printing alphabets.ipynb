{
 "cells": [
  {
   "cell_type": "code",
   "execution_count": 1,
   "id": "eeae4439",
   "metadata": {},
   "outputs": [
    {
     "name": "stdout",
     "output_type": "stream",
     "text": [
      "* * *\n",
      "*   *\n",
      "* * *\n",
      "*   *\n"
     ]
    }
   ],
   "source": [
    "x=0\n",
    "while x<4:\n",
    "    if x%2==0:\n",
    "        print('* * *')\n",
    "    else:\n",
    "        print('*   *')\n",
    "    x+=1"
   ]
  },
  {
   "cell_type": "code",
   "execution_count": 3,
   "id": "0b7c6352",
   "metadata": {},
   "outputs": [
    {
     "name": "stdout",
     "output_type": "stream",
     "text": [
      "* * *\n",
      "*    *\n",
      "* * *\n",
      "*    *\n",
      "* * *\n"
     ]
    }
   ],
   "source": [
    "x=0\n",
    "while x<5:\n",
    "    if x%2==0:\n",
    "        print('* * *')\n",
    "    else:\n",
    "        print('*    *')\n",
    "    x+=1"
   ]
  },
  {
   "cell_type": "code",
   "execution_count": 4,
   "id": "d116b57c",
   "metadata": {},
   "outputs": [
    {
     "name": "stdout",
     "output_type": "stream",
     "text": [
      "* * *\n",
      "*\n",
      "*\n",
      "* * *\n"
     ]
    }
   ],
   "source": [
    "x=0\n",
    "while x<4:\n",
    "    if x==0 or x==3:\n",
    "        print('* * *')\n",
    "    elif x==1 or x==2:\n",
    "        print('*')\n",
    "    x+=1"
   ]
  },
  {
   "cell_type": "code",
   "execution_count": 5,
   "id": "f7dc6db6",
   "metadata": {},
   "outputs": [
    {
     "name": "stdout",
     "output_type": "stream",
     "text": [
      "* * *\n",
      "*     *\n",
      "*     *\n",
      "* * *\n"
     ]
    }
   ],
   "source": [
    "x=0\n",
    "while x<4:\n",
    "    if x==0 or x==3:\n",
    "        print('* * *')\n",
    "    elif x==1 or x==2:\n",
    "        print('*     *')\n",
    "    x+=1"
   ]
  },
  {
   "cell_type": "code",
   "execution_count": 6,
   "id": "b62f542e",
   "metadata": {},
   "outputs": [
    {
     "name": "stdout",
     "output_type": "stream",
     "text": [
      "* * *\n",
      "*\n",
      "* * *\n",
      "*\n",
      "* * *\n"
     ]
    }
   ],
   "source": [
    "x=0\n",
    "while x<5:\n",
    "    if x%2==0:\n",
    "        print('* * *')\n",
    "    else:\n",
    "        print('*')\n",
    "    x+=1"
   ]
  },
  {
   "cell_type": "code",
   "execution_count": 7,
   "id": "95ae6369",
   "metadata": {},
   "outputs": [
    {
     "name": "stdout",
     "output_type": "stream",
     "text": [
      "* * *\n",
      "*\n",
      "* * *\n",
      "*\n",
      "*\n"
     ]
    }
   ],
   "source": [
    "x=0\n",
    "while x<5:\n",
    "    if x==0 or x==2:\n",
    "        print('* * *')\n",
    "    else:\n",
    "        print('*')\n",
    "    x+=1"
   ]
  },
  {
   "cell_type": "code",
   "execution_count": 72,
   "id": "51236c94",
   "metadata": {},
   "outputs": [
    {
     "name": "stdout",
     "output_type": "stream",
     "text": [
      "* * * *\n",
      "*\n",
      "*     * * *\n",
      "*     *   *\n",
      "* * * *   *\n"
     ]
    }
   ],
   "source": [
    " x=0\n",
    "while x<5:\n",
    "    if x==0:\n",
    "        print('* * * *')\n",
    "    elif x==1:\n",
    "        print('*')\n",
    "    elif x==2:\n",
    "        print('*     * * *')\n",
    "    elif x==3:\n",
    "        print('*     *   *')\n",
    "    elif x==4:\n",
    "        print('* * * *   *')\n",
    "    x+=1"
   ]
  },
  {
   "cell_type": "code",
   "execution_count": 11,
   "id": "cd95ab7d",
   "metadata": {},
   "outputs": [
    {
     "name": "stdout",
     "output_type": "stream",
     "text": [
      "*   *\n",
      "*   *\n",
      "* * *\n",
      "*   *\n",
      "*   *\n"
     ]
    }
   ],
   "source": [
    "x=0\n",
    "while x<5:\n",
    "    if x==2:\n",
    "        print('* * *')\n",
    "    else:\n",
    "        print('*   *')\n",
    "    x+=1"
   ]
  },
  {
   "cell_type": "code",
   "execution_count": 13,
   "id": "4bbf5309",
   "metadata": {},
   "outputs": [
    {
     "name": "stdout",
     "output_type": "stream",
     "text": [
      "* * *\n",
      "  *  \n",
      "  *  \n",
      "  *  \n",
      "* * *\n"
     ]
    }
   ],
   "source": [
    "x=0\n",
    "while x<5:\n",
    "    if x==0 or x==4:\n",
    "        print('* * *')\n",
    "    else:\n",
    "        print('  *  ')\n",
    "    x+=1"
   ]
  },
  {
   "cell_type": "code",
   "execution_count": 15,
   "id": "91f778a4",
   "metadata": {},
   "outputs": [
    {
     "name": "stdout",
     "output_type": "stream",
     "text": [
      "* * * * *\n",
      "    *\n",
      "    *\n",
      "    *\n",
      "* * *\n"
     ]
    }
   ],
   "source": [
    "x=0\n",
    "while x<5:\n",
    "    if x==0:\n",
    "        print('* * * * *')\n",
    "    elif x==4:\n",
    "        print('* * *')\n",
    "    else:\n",
    "        print('    *')\n",
    "    x+=1"
   ]
  },
  {
   "cell_type": "code",
   "execution_count": 16,
   "id": "42577e07",
   "metadata": {},
   "outputs": [
    {
     "name": "stdout",
     "output_type": "stream",
     "text": [
      "*      *\n",
      "*    *\n",
      "* *\n",
      "*    *\n",
      "*      *\n"
     ]
    }
   ],
   "source": [
    "x=0\n",
    "while x<5:\n",
    "    if x==0 or x==4:\n",
    "        print('*      *')\n",
    "    elif x==1 or x==3:\n",
    "        print('*    *')\n",
    "    else:\n",
    "        print('* *')\n",
    "    x+=1"
   ]
  },
  {
   "cell_type": "code",
   "execution_count": 17,
   "id": "8ff721fb",
   "metadata": {},
   "outputs": [
    {
     "name": "stdout",
     "output_type": "stream",
     "text": [
      "*\n",
      "*\n",
      "*\n",
      "* * * *\n"
     ]
    }
   ],
   "source": [
    "x=0\n",
    "while x<4:\n",
    "    if x==3:\n",
    "        print('* * * *')\n",
    "    else:\n",
    "        print('*')\n",
    "    x+=1"
   ]
  },
  {
   "cell_type": "code",
   "execution_count": 18,
   "id": "efd5ac81",
   "metadata": {},
   "outputs": [
    {
     "name": "stdout",
     "output_type": "stream",
     "text": [
      "* *   * *\n",
      "*   *   *\n",
      "*       *\n"
     ]
    }
   ],
   "source": [
    "x=0\n",
    "while x<4:\n",
    "    if x==0:\n",
    "        print('* *   * *')\n",
    "    elif x==1:\n",
    "        print('*   *   *')\n",
    "    elif x==2:\n",
    "        print('*       *')\n",
    "    x+=1"
   ]
  },
  {
   "cell_type": "code",
   "execution_count": 19,
   "id": "d8b77b1b",
   "metadata": {},
   "outputs": [
    {
     "name": "stdout",
     "output_type": "stream",
     "text": [
      "*       *\n",
      "* *     *\n",
      "*   *   *\n",
      "*     * *\n"
     ]
    }
   ],
   "source": [
    "x=0\n",
    "while x<4:\n",
    "    if x==0:\n",
    "        print('*       *')\n",
    "    elif x==1:\n",
    "        print('* *     *')\n",
    "    elif x==2:\n",
    "        print('*   *   *')\n",
    "    elif x==3:\n",
    "        print('*     * *')  \n",
    "    x+=1"
   ]
  },
  {
   "cell_type": "code",
   "execution_count": 20,
   "id": "f282d25b",
   "metadata": {},
   "outputs": [
    {
     "name": "stdout",
     "output_type": "stream",
     "text": [
      "  * * *  \n",
      "*       *\n",
      "*       *\n",
      "*       *\n",
      "  * * *  \n"
     ]
    }
   ],
   "source": [
    "x=0\n",
    "while x<5:\n",
    "    if x==0 or x==4:\n",
    "        print('  * * *  ')\n",
    "    else:\n",
    "        print('*       *')\n",
    "    x+=1"
   ]
  },
  {
   "cell_type": "code",
   "execution_count": 21,
   "id": "74a3e0b0",
   "metadata": {},
   "outputs": [
    {
     "name": "stdout",
     "output_type": "stream",
     "text": [
      "* * *\n",
      "*    *\n",
      "* * *\n",
      "*\n",
      "*\n"
     ]
    }
   ],
   "source": [
    "x=0\n",
    "while x<5:\n",
    "    if x==0 or x==2:\n",
    "        print('* * *')\n",
    "    elif x==1:\n",
    "        print('*    *')\n",
    "    else:\n",
    "        print('*')\n",
    "    x+=1"
   ]
  },
  {
   "cell_type": "code",
   "execution_count": 25,
   "id": "83712c8b",
   "metadata": {},
   "outputs": [
    {
     "name": "stdout",
     "output_type": "stream",
     "text": [
      "  * * *  \n",
      "*       *\n",
      "*   *   *\n",
      "*     * *\n",
      " * * * **\n",
      "          *\n"
     ]
    }
   ],
   "source": [
    "x=0\n",
    "while x<6:\n",
    "    if x==0 :\n",
    "        print('  * * *  ')\n",
    "    elif x==1:\n",
    "        print('*       *')\n",
    "    elif x==2:\n",
    "        print('*   *   *')\n",
    "    elif x==3:\n",
    "        print('*     * *')\n",
    "    elif x==4:\n",
    "        print(' * * * **')\n",
    "    elif x==5:\n",
    "        print('         *')\n",
    "    \n",
    "    x+=1"
   ]
  },
  {
   "cell_type": "code",
   "execution_count": 28,
   "id": "ec2f77ee",
   "metadata": {},
   "outputs": [
    {
     "name": "stdout",
     "output_type": "stream",
     "text": [
      "* * *\n",
      "*    *\n",
      "* * *\n",
      "*   *\n",
      "*    *\n"
     ]
    }
   ],
   "source": [
    "x=0\n",
    "while x<5:\n",
    "    if x==0 or x==2:\n",
    "        print('* * *')\n",
    "    elif x==1 or x==4:\n",
    "        print('*    *')\n",
    "    else:\n",
    "        print('*   *')\n",
    "    x+=1"
   ]
  },
  {
   "cell_type": "code",
   "execution_count": 32,
   "id": "7c5242d1",
   "metadata": {},
   "outputs": [
    {
     "name": "stdout",
     "output_type": "stream",
     "text": [
      "* * * * *\n",
      "*       \n",
      "* * * * *\n",
      "        *\n",
      "* * * * *\n"
     ]
    }
   ],
   "source": [
    "x=0\n",
    "while x<5:\n",
    "    if x==0 or x==2 or x==4:\n",
    "        print('* * * * *')\n",
    "    elif x==1:\n",
    "        print('*       ')\n",
    "    else:\n",
    "        print('        *')\n",
    "    x+=1"
   ]
  },
  {
   "cell_type": "code",
   "execution_count": 34,
   "id": "428130b3",
   "metadata": {},
   "outputs": [
    {
     "name": "stdout",
     "output_type": "stream",
     "text": [
      "* * * * *\n",
      "    *  \n",
      "    *  \n",
      "    *  \n",
      "    *  \n"
     ]
    }
   ],
   "source": [
    "x=0\n",
    "while x<5:\n",
    "    if x==0 :\n",
    "        print('* * * * *')\n",
    "    else:\n",
    "        print('    *  ')\n",
    "    x+=1"
   ]
  },
  {
   "cell_type": "code",
   "execution_count": 35,
   "id": "3ff4086a",
   "metadata": {},
   "outputs": [
    {
     "name": "stdout",
     "output_type": "stream",
     "text": [
      "*       *\n",
      "*       *\n",
      "*       *\n",
      "* * * * *\n"
     ]
    }
   ],
   "source": [
    "x=0\n",
    "while x<4:\n",
    "    if x==3:\n",
    "        print('* * * * *')\n",
    "    else:\n",
    "        print('*       *')\n",
    "    x+=1"
   ]
  },
  {
   "cell_type": "code",
   "execution_count": 39,
   "id": "a6753124",
   "metadata": {},
   "outputs": [
    {
     "name": "stdout",
     "output_type": "stream",
     "text": [
      "*        *\n",
      "  *    *  \n",
      "     *    \n"
     ]
    }
   ],
   "source": [
    "x=0\n",
    "while x<4:\n",
    "    if x==0:\n",
    "        print('*        *')\n",
    "    elif x==1:\n",
    "        print('  *    *  ')\n",
    "    elif x==2:\n",
    "        print('     *    ')\n",
    "    x+=1"
   ]
  },
  {
   "cell_type": "code",
   "execution_count": 38,
   "id": "fc572ddb",
   "metadata": {},
   "outputs": [
    {
     "name": "stdout",
     "output_type": "stream",
     "text": [
      "*       *\n",
      "*       *\n",
      "*   *   *\n",
      "* *   * *\n"
     ]
    }
   ],
   "source": [
    "x=0\n",
    "while x<4:\n",
    "    if x==3:\n",
    "        print('* *   * *')\n",
    "    elif x==2:\n",
    "        print('*   *   *')\n",
    "    else:\n",
    "        print('*       *')\n",
    "    x+=1"
   ]
  },
  {
   "cell_type": "code",
   "execution_count": 42,
   "id": "a4b290d4",
   "metadata": {},
   "outputs": [
    {
     "name": "stdout",
     "output_type": "stream",
     "text": [
      "*        *\n",
      "  *    *  \n",
      "    *    \n",
      "  *    *  \n",
      "*        *\n"
     ]
    }
   ],
   "source": [
    "x=0\n",
    "while x<5:\n",
    "    if x==0:\n",
    "        print('*        *')\n",
    "    elif x==1:\n",
    "        print('  *    *  ')\n",
    "    elif x==2:\n",
    "        print('    *    ')\n",
    "    elif x==3:\n",
    "        print('  *    *  ')\n",
    "        \n",
    "    elif x==4:\n",
    "        print('*        *')\n",
    "    x+=1"
   ]
  },
  {
   "cell_type": "code",
   "execution_count": 44,
   "id": "5268ae12",
   "metadata": {},
   "outputs": [
    {
     "name": "stdout",
     "output_type": "stream",
     "text": [
      "*        *\n",
      "  *    *  \n",
      "    *    \n",
      "    *    \n",
      "    *    \n"
     ]
    }
   ],
   "source": [
    "x=0\n",
    "while x<5:\n",
    "    if x==0:\n",
    "        print('*        *')\n",
    "    elif x==1:\n",
    "        print('  *    *  ')\n",
    "    else:\n",
    "        print('    *    ')\n",
    "\n",
    "    x+=1"
   ]
  },
  {
   "cell_type": "code",
   "execution_count": 46,
   "id": "2cd9f9a1",
   "metadata": {},
   "outputs": [
    {
     "name": "stdout",
     "output_type": "stream",
     "text": [
      "* * * * *\n",
      "      *  \n",
      "    *    \n",
      "  *      \n",
      "* * * * *\n"
     ]
    }
   ],
   "source": [
    "x=0\n",
    "while x<5:\n",
    "    if x==0 or x==4:\n",
    "        print('* * * * *')\n",
    "    elif x==1:\n",
    "        print('      *  ')\n",
    "    elif x==2:\n",
    "        print('    *    ')\n",
    "    elif x==3:\n",
    "        print('  *      ')\n",
    "    x+=1"
   ]
  },
  {
   "cell_type": "code",
   "execution_count": 74,
   "id": "d3e96f25",
   "metadata": {},
   "outputs": [
    {
     "name": "stdout",
     "output_type": "stream",
     "text": [
      "enter the name : vamsig\n",
      "*        *\n",
      "  *    *  \n",
      "     *    \n",
      "\n",
      "\n",
      "* * *\n",
      "*   *\n",
      "* * *\n",
      "*   *\n",
      "\n",
      "\n",
      "* *   * *\n",
      "*   *   *\n",
      "*       *\n",
      "\n",
      "\n",
      "* * * * *\n",
      "*       \n",
      "* * * * *\n",
      "        *\n",
      "* * * * *\n",
      "\n",
      "\n",
      "* * *\n",
      "  *  \n",
      "  *  \n",
      "  *  \n",
      "* * *\n",
      "\n",
      "\n",
      "* * * *\n",
      "*\n",
      "*     * * *\n",
      "*     *   *\n",
      "* * * *   *\n",
      "\n",
      "\n"
     ]
    }
   ],
   "source": [
    "X = input(\"enter the name : \")\n",
    "i=0\n",
    "while i<len(X):\n",
    "    if X[i]=='A' or X[i]=='a':\n",
    "        x=0\n",
    "        while x<4:\n",
    "            if x%2==0:\n",
    "                print('* * *')\n",
    "            else:\n",
    "                print('*   *')\n",
    "            x+=1\n",
    "    elif X[i]=='B' or X[i]=='b':\n",
    "        x=0\n",
    "        while x<5:\n",
    "            if x%2==0:\n",
    "                print('* * *')\n",
    "            else:\n",
    "                print('*    *')\n",
    "            x+=1\n",
    "    elif X[i]=='C' or X[i]=='c':\n",
    "        x=0\n",
    "        while x<4:\n",
    "            if x==0 or x==3:\n",
    "                print('* * *')\n",
    "            elif x==1 or x==2:\n",
    "                print('*')\n",
    "            x+=1\n",
    "    elif X[i]=='D' or X[i]=='d':\n",
    "        x=0\n",
    "        while x<4:\n",
    "            if x==0 or x==3:\n",
    "                print('* * *')\n",
    "            elif x==1 or x==2:\n",
    "                print('*     *')\n",
    "            x+=1 \n",
    "    elif X[i]=='E' or X[i]=='e':\n",
    "        x=0\n",
    "        while x<5:\n",
    "            if x%2==0:\n",
    "                print('* * *')\n",
    "            else:\n",
    "                print('*')\n",
    "            x+=1\n",
    "    elif X[i]=='F' or X[i]=='f':\n",
    "        x=0\n",
    "        while x<5:\n",
    "            if x==0 or x==2:\n",
    "                print('* * *')\n",
    "            else:\n",
    "                print('*')\n",
    "            x+=1\n",
    "    elif X[i]=='G' or X[i]=='g':\n",
    "        x=0\n",
    "        while x<5:\n",
    "            if x==0:\n",
    "                print('* * * *')\n",
    "            elif x==1:\n",
    "                print('*')\n",
    "            elif x==2:\n",
    "                print('*     * * *')\n",
    "            elif x==3:\n",
    "                print('*     *   *')\n",
    "            elif x==4:\n",
    "                print('* * * *   *')\n",
    "            x+=1\n",
    "    elif X[i]=='H' or X[i]=='h':\n",
    "        x=0\n",
    "        while x<5:\n",
    "            if x==2:\n",
    "                print('* * *')\n",
    "            else:\n",
    "                print('*   *')\n",
    "            x+=1\n",
    "    elif X[i]=='I' or X[i]=='i':\n",
    "        x=0\n",
    "        while x<5:\n",
    "            if x==0 or x==4:\n",
    "                print('* * *')\n",
    "            else:\n",
    "                print('  *  ')\n",
    "            x+=1\n",
    "    elif X[i]=='J' or X[i]=='j':\n",
    "        x=0\n",
    "        while x<5:\n",
    "            if x==0:\n",
    "                print('* * * * *')\n",
    "            elif x==4:\n",
    "                print('* * *')\n",
    "            else:\n",
    "                print('    *')\n",
    "            x+=1\n",
    "    elif X[i]=='K' or X[i]=='k':\n",
    "        x=0\n",
    "        while x<5:\n",
    "            if x==0 or x==4:\n",
    "                print('*      *')\n",
    "            elif x==1 or x==3:\n",
    "                print('*    *')\n",
    "            else:\n",
    "                print('* *')\n",
    "            x+=1\n",
    "    elif X[i]=='L' or X[i]=='l':\n",
    "        x=0\n",
    "        while x<4:\n",
    "            if x==3:\n",
    "                print('* * * *')\n",
    "            else:\n",
    "                print('*')\n",
    "            x+=1\n",
    "    elif X[i]=='M' or X[i]=='m':\n",
    "        x=0\n",
    "        while x<4:\n",
    "            if x==0:\n",
    "                print('* *   * *')\n",
    "            elif x==1:\n",
    "                print('*   *   *')\n",
    "            elif x==2:\n",
    "                print('*       *')\n",
    "            x+=1\n",
    "    elif X[i]=='N' or X[i]=='n':\n",
    "        x=0\n",
    "        while x<4:\n",
    "            if x==0:\n",
    "                print('*       *')\n",
    "            elif x==1:\n",
    "                print('* *     *')\n",
    "            elif x==2:\n",
    "                print('*   *   *')\n",
    "            elif x==3:\n",
    "                print('*     * *')  \n",
    "            x+=1\n",
    "    elif X[i]=='O' or X[i]=='o':\n",
    "        x=0\n",
    "        while x<5:\n",
    "            if x==0 or x==4:\n",
    "                print('  * * *  ')\n",
    "            else:\n",
    "                print('*       *')\n",
    "            x+=1\n",
    "    elif X[i]=='P' or X[i]=='p':\n",
    "        x=0\n",
    "        while x<5:\n",
    "            if x==0 or x==2:\n",
    "                print('* * *')\n",
    "            elif x==1:\n",
    "                print('*    *')\n",
    "            else:\n",
    "                print('*')\n",
    "            x+=1\n",
    "    elif X[i]=='Q' or X[i]=='q':\n",
    "        x=0\n",
    "        while x<6:\n",
    "            if x==0 :\n",
    "                print('  * * *  ')\n",
    "            elif x==1:\n",
    "                print('*       *')\n",
    "            elif x==2:\n",
    "                print('*   *   *')\n",
    "            elif x==3:\n",
    "                print('*     * *')\n",
    "            elif x==4:\n",
    "                print(' * * * **')\n",
    "            elif x==5:\n",
    "                print('         *')\n",
    "    \n",
    "            x+=1\n",
    "    elif X[i]=='R' or X[i]=='r':\n",
    "        x=0\n",
    "        while x<5:\n",
    "            if x==0 or x==2:\n",
    "                print('* * *')\n",
    "            elif x==1 or x==4:\n",
    "                print('*    *')\n",
    "            else:\n",
    "                print('*   *')\n",
    "            x+=1\n",
    "    elif X[i]=='S' or X[i]=='s':\n",
    "        x=0\n",
    "        while x<5:\n",
    "            if x==0 or x==2 or x==4:\n",
    "                print('* * * * *')\n",
    "            elif x==1:\n",
    "                print('*       ')\n",
    "            else:\n",
    "                print('        *')\n",
    "            x+=1\n",
    "    elif X[i]=='T' or X[i]=='t':\n",
    "        x=0\n",
    "        while x<5:\n",
    "            if x==0 :\n",
    "                print('* * * * *')\n",
    "            else:\n",
    "                print('    *  ')\n",
    "            x+=1\n",
    "    elif X[i]=='U' or X[i]=='u':\n",
    "        x=0\n",
    "        while x<4:\n",
    "            if x==3:\n",
    "                print('* * * * *')\n",
    "            else:\n",
    "                print('*       *')\n",
    "            x+=1\n",
    "    elif X[i]=='V' or X[i]=='v':\n",
    "        x=0\n",
    "        while x<4:\n",
    "            if x==0:\n",
    "                print('*        *')\n",
    "            elif x==1:\n",
    "                print('  *    *  ')\n",
    "            elif x==2:\n",
    "                print('     *    ')\n",
    "            x+=1\n",
    "    elif X[i]=='W' or X[i]=='w':\n",
    "        x=0\n",
    "        while x<4:\n",
    "            if x==3:\n",
    "                print('* *   * *')\n",
    "            elif x==2:\n",
    "                print('*   *   *')\n",
    "            else:\n",
    "                print('*       *')\n",
    "            x+=1\n",
    "    elif X[i]=='X' or X[i]=='x':\n",
    "        x=0\n",
    "        while x<5:\n",
    "            if x==0:\n",
    "                print('*        *')\n",
    "            elif x==1:\n",
    "                print('  *    *  ')\n",
    "            elif x==2:\n",
    "                print('    *    ')\n",
    "            elif x==3:\n",
    "                print('  *    *  ')\n",
    "            elif x==4:\n",
    "                print('*        *')\n",
    "            x+=1\n",
    "    elif X[i]=='Y' or X[i]=='y':\n",
    "        x=0\n",
    "        while x<5:\n",
    "            if x==0:\n",
    "                print('*        *')\n",
    "            elif x==1:\n",
    "                print('  *    *  ')\n",
    "            else:\n",
    "                print('    *    ')\n",
    "\n",
    "            x+=1\n",
    "    elif X[i]=='Z' or X[i]=='z':\n",
    "        x=0\n",
    "        while x<5:\n",
    "            if x==0:\n",
    "                print('*        *')\n",
    "            elif x==1:\n",
    "                print('  *    *  ')\n",
    "            else:\n",
    "                print('    *    ')\n",
    "\n",
    "            x+=1\n",
    "    i+=1\n",
    "    print('\\n')\n",
    "        \n",
    "        "
   ]
  },
  {
   "cell_type": "code",
   "execution_count": null,
   "id": "5586f491",
   "metadata": {},
   "outputs": [],
   "source": []
  }
 ],
 "metadata": {
  "kernelspec": {
   "display_name": "Python 3 (ipykernel)",
   "language": "python",
   "name": "python3"
  },
  "language_info": {
   "codemirror_mode": {
    "name": "ipython",
    "version": 3
   },
   "file_extension": ".py",
   "mimetype": "text/x-python",
   "name": "python",
   "nbconvert_exporter": "python",
   "pygments_lexer": "ipython3",
   "version": "3.9.12"
  }
 },
 "nbformat": 4,
 "nbformat_minor": 5
}
